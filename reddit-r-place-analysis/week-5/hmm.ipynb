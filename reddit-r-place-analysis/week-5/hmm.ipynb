{
 "cells": [
  {
   "cell_type": "markdown",
   "metadata": {},
   "source": [
    "# What happened with the most unloved colors?\n",
    "\n",
    "*Author's Note: This analysis will be comparing pyspark to duckdb, thus each query will be done using duckdb then repeated with pyspark.\n",
    "\n",
    "First, **what were the least used colors in the r/place 2022 canvas?**<br>\n",
    "Let us classify the 'most unloved colors' as the 5 least used colors. What are those colors?"
   ]
  },
  {
   "cell_type": "code",
   "execution_count": 11,
   "metadata": {},
   "outputs": [
    {
     "name": "stdout",
     "output_type": "stream",
     "text": [
      "Top 10 painted pixels:\n",
      "   pixel_color   count\n",
      "0   Light teal  160380\n",
      "1         Teal  190675\n",
      "2  Pale purple  247720\n",
      "3     Lavender  281712\n",
      "4    Dark teal  322731\n",
      "\n"
     ]
    }
   ],
   "source": [
    "import duckdb\n",
    "\n",
    "conn = duckdb.connect()\n",
    "\n",
    "query = \"\"\"\n",
    "    WITH colors AS (\n",
    "        SELECT\n",
    "            pixel_color,\n",
    "            COUNT(DISTINCT user_uniq_id) AS count\n",
    "        FROM '../2022_place_canvas_history.parquet'\n",
    "        GROUP BY pixel_color\n",
    "    )\n",
    "    SELECT pixel_color, count\n",
    "    FROM colors\n",
    "    ORDER BY count\n",
    "    LIMIT 5\n",
    "    \"\"\"\n",
    "    \n",
    "res = conn.execute(query).df()\n",
    "print(f\"Top 10 painted pixels:\\n{res}\\n\")"
   ]
  },
  {
   "cell_type": "code",
   "execution_count": null,
   "metadata": {},
   "outputs": [],
   "source": [
    "import os\n",
    "from pyspark.sql import SparkSession\n",
    "\n",
    "spark = SparkSession.builder.appName(\"rplaceQuery\").getOrCreate()\n",
    "    \n",
    "df = spark.read.parquet(\"../2022_place_canvas_history.parquet\")\n",
    "df.createOrReplaceTempView(\"canvas\")\n",
    "\n",
    "query = \"\"\"\n",
    "    WITH colors AS (\n",
    "        SELECT\n",
    "            pixel_color,\n",
    "            COUNT(DISTINCT user_uniq_id) AS count\n",
    "        FROM canvas\n",
    "        GROUP BY pixel_color\n",
    "    )\n",
    "    SELECT pixel_color, count\n",
    "    FROM colors\n",
    "    ORDER BY count\n",
    "    LIMIT 5\n",
    "    \"\"\"\n",
    "\n",
    "result_df = spark.sql(query)\n",
    "result_df.show()\n",
    "\n",
    "spark.stop()"
   ]
  },
  {
   "cell_type": "markdown",
   "metadata": {},
   "source": [
    "### Why did everyone hate teal and purple???\n",
    "\n",
    "The least used colors during the event were all of the teal options and two purple colors. \n",
    "It is important to note that each of these were among the last couple of rounds of colors to be added later in the event. Dark teal and teal were added on day 2, and light teal, lavender, and pale purple added on day 3. However, even if we only look at the rankings during the time when all colors were available, the least loved colors stay in their rankings.\n",
    "\n",
    "Before we can clearly explain why people did *not* use something, let's see why they did...\n",
    "\n",
    "### What did users paint with the most unloved colors?"
   ]
  },
  {
   "cell_type": "code",
   "execution_count": null,
   "metadata": {},
   "outputs": [],
   "source": [
    "import image as img\n",
    "\n",
    "query = \"\"\"\n",
    "    SELECT pixel_color, coordinate, timestamp\n",
    "    FROM 'userless_place_canvas.parquet'\n",
    "    WHERE timestamp < '2022-04-04 22:47:40'\n",
    "        AND pixel_color IN ('Light teal', 'Dark teal', 'Teal')\n",
    "    \"\"\"\n",
    "    \n",
    "img.process_img(query)"
   ]
  },
  {
   "cell_type": "markdown",
   "metadata": {},
   "source": [
    "**Teal Canvas**\n",
    "\n",
    "Note: Since the teal colors are very similar, they were grouped together.\n",
    "<div>\n",
    "<img src=\"teal-lovers.png\" width=\"1000\"/>\n",
    "</div>\n",
    "\n",
    "Here, there was quite a bit of teal scattered throughout the canvas, but there are some clear images that are forming...\n",
    "\n",
    "For example, here is one very clear blob in the canvas...\n",
    "<div>\n",
    "<img src=\"teal-totoro.png\"/>\n",
    "</div>\n",
    "\n",
    "...that actually turned out to be a part of an image of Totoro from Studio Ghibli's \"My Neighbor Totoro\". Here is a rendering on Mon, 04 Apr 2022 at 06:00:00 GMT\n",
    "<div>\n",
    "<img src=\"full-totoro.png\"/>\n",
    "</div>\n",
    "\n",
    "Similarly, the very large square blob on the right side...\n",
    "<div>\n",
    "<img src=\"teal-freak.png\"/>\n",
    "</div>\n",
    "\n",
    "...turned out to be an attack on the NoPixel Grand Theft Auto role-play community. Users attempted to cover their art with \"FREAK SQUAD\". Here is the progress as of Mon, 04 Apr 2022 at 15:00:00 GMT\n",
    "<div>\n",
    "<img src=\"full-freak.png\"/>\n",
    "</div>\n",
    "\n",
    "Though there are many more examples of teal images being created, these are some of the most noticable ones. Unfortunately, both of these images are very quickly covered with other colors, adding to the dislike shown towards the three teals."
   ]
  },
  {
   "cell_type": "code",
   "execution_count": 13,
   "metadata": {},
   "outputs": [],
   "source": [
    "import image as img\n",
    "\n",
    "query = \"\"\"\n",
    "    SELECT pixel_color, coordinate, timestamp\n",
    "    FROM 'userless_place_canvas.parquet'\n",
    "    WHERE timestamp < '2022-04-04 22:47:40'\n",
    "        AND pixel_color IN ('#E4ABFF')\n",
    "    \"\"\"\n",
    "    \n",
    "img.process_img(query)"
   ]
  },
  {
   "cell_type": "markdown",
   "metadata": {},
   "source": [
    "**Pale Purple Canvas**\n",
    "<div>\n",
    "<img src=\"pale-purple-lovers.png\" width=\"1000\"/>\n",
    "</div>\n",
    "\n",
    "None of the pixels here lead to some obvious image. Of course it is important to note the large number of placements in the bottom left corner, but considering that was France's territory and given the battles in that location, that is not surprising."
   ]
  },
  {
   "cell_type": "code",
   "execution_count": 14,
   "metadata": {},
   "outputs": [],
   "source": [
    "query = \"\"\"\n",
    "    SELECT pixel_color, coordinate, timestamp\n",
    "    FROM 'userless_place_canvas.parquet'\n",
    "    WHERE timestamp < '2022-04-04 22:47:40'\n",
    "        AND pixel_color IN ('#94B3FF')\n",
    "    \"\"\"\n",
    "    \n",
    "img.process_img(query)"
   ]
  },
  {
   "cell_type": "markdown",
   "metadata": {},
   "source": [
    "**Lavender Canvas**\n",
    "<div>\n",
    "<img src=\"lavender-lovers.png\" width=\"1000\"/>\n",
    "</div>\n",
    "Similar to teal, there are quite a few areas that look promising.\n",
    "\n",
    "\n",
    "\n",
    "As for why so many chose other colors to paint the canvas with, the simple answer is the appeal of the colors. <br>\n",
    "For teal, there were multiple other blue and green hues that were available for longer, and are generally considered more visually appealling.<br>\n",
    "And as for the purples, they both often appeared as \"supporting\" or background colors rather than the main event.\n",
    "\n",
    "### Pyspark vs DuckDB\n",
    "DuckDB was so much nicer to use. Pyspark took too long to install and configure compared to DuckDB, and the query that I ran with it took much longer. Pyspark does not have an obvious advantage as both libaries have similar functionalities. Given I only compared the two with one query, I cannot say too much about it. However, solely given the long setup time I will not be returning to Pyspark unless it is necessary."
   ]
  }
 ],
 "metadata": {
  "kernelspec": {
   "display_name": ".venv",
   "language": "python",
   "name": "python3"
  },
  "language_info": {
   "codemirror_mode": {
    "name": "ipython",
    "version": 3
   },
   "file_extension": ".py",
   "mimetype": "text/x-python",
   "name": "python",
   "nbconvert_exporter": "python",
   "pygments_lexer": "ipython3",
   "version": "3.12.6"
  }
 },
 "nbformat": 4,
 "nbformat_minor": 2
}
